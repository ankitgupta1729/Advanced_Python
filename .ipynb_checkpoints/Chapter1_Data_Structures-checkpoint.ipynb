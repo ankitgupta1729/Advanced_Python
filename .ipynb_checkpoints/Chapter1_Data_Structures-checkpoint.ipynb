{
 "cells": [
  {
   "cell_type": "code",
   "execution_count": 7,
   "id": "40b239ad",
   "metadata": {},
   "outputs": [
    {
     "data": {
      "text/plain": [
       "__main__.Card"
      ]
     },
     "execution_count": 7,
     "metadata": {},
     "output_type": "execute_result"
    }
   ],
   "source": [
    "import collections\n",
    "Card=collections.namedtuple('Card',['rank','suit'])\n",
    "Card"
   ]
  },
  {
   "cell_type": "code",
   "execution_count": 5,
   "id": "07ca8db1",
   "metadata": {},
   "outputs": [],
   "source": [
    "class FrenchDeck:\n",
    "    ranks= [str(r) for r in range(2,11)]+list(\"JQKA\")\n",
    "    suits= 'spade diamonds clubs hearts'.split()\n",
    "    \n",
    "    def __init__(self):\n",
    "        self._cards= [Card(rank,suit) for suit in self.suits for rank in self.ranks]\n",
    "    def __len__(self):\n",
    "        return len(self._cards)\n",
    "    def __getitem__(self,position):\n",
    "        return self._cards[position]"
   ]
  },
  {
   "cell_type": "markdown",
   "id": "570f0d7c",
   "metadata": {},
   "source": [
    "The first thing to note is the use of collections.namedtuple to construct a simple\n",
    "class to represent individual cards. We use namedtuple to build classes of objects that\n",
    "are just bundles of attributes with no custom methods"
   ]
  },
  {
   "cell_type": "code",
   "execution_count": 10,
   "id": "c13c1baa",
   "metadata": {},
   "outputs": [
    {
     "data": {
      "text/plain": [
       "Card(rank='1', suit='diamonds')"
      ]
     },
     "execution_count": 10,
     "metadata": {},
     "output_type": "execute_result"
    }
   ],
   "source": [
    "Card('1','diamonds')"
   ]
  },
  {
   "cell_type": "code",
   "execution_count": 11,
   "id": "77c543dd",
   "metadata": {},
   "outputs": [],
   "source": [
    "deck=FrenchDeck()"
   ]
  },
  {
   "cell_type": "code",
   "execution_count": 12,
   "id": "451a9b5b",
   "metadata": {},
   "outputs": [
    {
     "data": {
      "text/plain": [
       "<__main__.FrenchDeck at 0x1f3066957c0>"
      ]
     },
     "execution_count": 12,
     "metadata": {},
     "output_type": "execute_result"
    }
   ],
   "source": [
    "deck"
   ]
  },
  {
   "cell_type": "code",
   "execution_count": 13,
   "id": "cec097f6",
   "metadata": {},
   "outputs": [
    {
     "data": {
      "text/plain": [
       "['Spade', 'Diamonds', 'Clubs', 'Hearts']"
      ]
     },
     "execution_count": 13,
     "metadata": {},
     "output_type": "execute_result"
    }
   ],
   "source": [
    "deck.suits"
   ]
  },
  {
   "cell_type": "code",
   "execution_count": 14,
   "id": "f6d859de",
   "metadata": {},
   "outputs": [
    {
     "data": {
      "text/plain": [
       "['2', '3', '4', '5', '6', '7', '8', '9', '10', 'J', 'Q', 'K', 'A']"
      ]
     },
     "execution_count": 14,
     "metadata": {},
     "output_type": "execute_result"
    }
   ],
   "source": [
    "deck.ranks"
   ]
  },
  {
   "cell_type": "code",
   "execution_count": 16,
   "id": "ac5b7afb",
   "metadata": {},
   "outputs": [
    {
     "data": {
      "text/plain": [
       "52"
      ]
     },
     "execution_count": 16,
     "metadata": {},
     "output_type": "execute_result"
    }
   ],
   "source": [
    "len(deck)"
   ]
  },
  {
   "cell_type": "markdown",
   "id": "8220d2ee",
   "metadata": {},
   "source": [
    "Reading specific cards from the deck—say, the first or the last—is easy, thanks to the\n",
    "$\\text{__getitem__}$ method:"
   ]
  },
  {
   "cell_type": "code",
   "execution_count": 18,
   "id": "c05400eb",
   "metadata": {},
   "outputs": [
    {
     "data": {
      "text/plain": [
       "Card(rank='2', suit='Spade')"
      ]
     },
     "execution_count": 18,
     "metadata": {},
     "output_type": "execute_result"
    }
   ],
   "source": [
    "deck[0] "
   ]
  },
  {
   "cell_type": "code",
   "execution_count": 19,
   "id": "84cb148b",
   "metadata": {},
   "outputs": [
    {
     "data": {
      "text/plain": [
       "Card(rank='A', suit='Hearts')"
      ]
     },
     "execution_count": 19,
     "metadata": {},
     "output_type": "execute_result"
    }
   ],
   "source": [
    "deck[-1]"
   ]
  },
  {
   "cell_type": "code",
   "execution_count": 20,
   "id": "0b718a82",
   "metadata": {},
   "outputs": [
    {
     "data": {
      "text/plain": [
       "Card(rank='10', suit='Hearts')"
      ]
     },
     "execution_count": 20,
     "metadata": {},
     "output_type": "execute_result"
    }
   ],
   "source": [
    "# picking a random card\n",
    "import random\n",
    "random.choice(deck)"
   ]
  },
  {
   "cell_type": "markdown",
   "id": "70c9fc99",
   "metadata": {},
   "source": [
    "We’ve just seen two advantages of using special methods to leverage the Python Data\n",
    "Model:   \n",
    "   \n",
    "• Users of your classes don’t have to memorize arbitrary method names for stan‐\n",
    "dard operations. (“How to get the number of items? Is it .size(), .length(), or\n",
    "what?”)   \n",
    "   \n",
    "• It’s easier to benefit from the rich Python standard library and avoid reinventing\n",
    "the wheel, like the random.choice function."
   ]
  },
  {
   "cell_type": "markdown",
   "id": "984476e6",
   "metadata": {},
   "source": [
    "Because our $\\text{__getitem__}$ delegates to the [] operator of self._cards, our deck\n",
    "automatically supports slicing. "
   ]
  },
  {
   "cell_type": "code",
   "execution_count": 22,
   "id": "59244cba",
   "metadata": {},
   "outputs": [
    {
     "data": {
      "text/plain": [
       "[Card(rank='2', suit='Spade'),\n",
       " Card(rank='3', suit='Spade'),\n",
       " Card(rank='4', suit='Spade')]"
      ]
     },
     "execution_count": 22,
     "metadata": {},
     "output_type": "execute_result"
    }
   ],
   "source": [
    "deck[:3]"
   ]
  },
  {
   "cell_type": "markdown",
   "id": "9d42a96a",
   "metadata": {},
   "source": [
    "Just by implementing the $\\text{__getitem__}$ special method, our deck is also iterable:"
   ]
  },
  {
   "cell_type": "code",
   "execution_count": 25,
   "id": "36c06bcb",
   "metadata": {},
   "outputs": [
    {
     "data": {
      "text/plain": [
       "Card(rank='5', suit='Spade')"
      ]
     },
     "execution_count": 25,
     "metadata": {},
     "output_type": "execute_result"
    }
   ],
   "source": [
    "deck._cards[3]"
   ]
  },
  {
   "cell_type": "markdown",
   "id": "68f6ace2",
   "metadata": {},
   "source": [
    "## How Special Methods Are Used"
   ]
  },
  {
   "cell_type": "markdown",
   "id": "1f4b96f6",
   "metadata": {},
   "source": [
    "You write len(my_object) and, if my_object is an instance of a user-defined class, then\n",
    "Python calls the __len__ method you implemented."
   ]
  },
  {
   "cell_type": "markdown",
   "id": "d27da29c",
   "metadata": {},
   "source": [
    "But the interpreter takes a shortcut when dealing for built-in types like list, str,\n",
    "bytearray, or extensions like the NumPy arrays. Python variable-sized collections\n",
    "written in C include a struct\n",
    " called PyVarObject, which has an ob_size field holding\n",
    "the number of items in the collection. So, if my_object is an instance of one of those\n",
    "built-ins, then len(my_object) retrieves the value of the ob_size field, and this is\n",
    "much faster than calling a method.\n"
   ]
  },
  {
   "cell_type": "code",
   "execution_count": 27,
   "id": "38936cba",
   "metadata": {},
   "outputs": [],
   "source": [
    "import math\n",
    "class Vector:\n",
    "    def __init__(self,x=0,y=0):\n",
    "        self.x=x\n",
    "        self.y=y\n",
    "    def __repr__(self):\n",
    "        return f'Vector({self.x!r},{self.y!r})'\n",
    "    def __abs__(self):\n",
    "        return math.hypot(self.x,self.y)\n",
    "    def __bool__(self):\n",
    "        return bool(abs(self))\n",
    "    def __add__(self,other):\n",
    "        self.x=self.x+other.x\n",
    "        self.y=self.y+other.y\n",
    "        return Vector(x,y)\n",
    "    def __mul__(self,scalar):\n",
    "        return Vector(self.x*scalar,self.y*scalar)\n",
    "    "
   ]
  },
  {
   "cell_type": "markdown",
   "id": "1727de32",
   "metadata": {},
   "source": [
    "The $\\text{__repr__}$ special method is called by the repr built-in to get the string represen‐\n",
    "tation of the object for inspection. Without a custom $\\text{__repr__}$, Python’s console\n",
    "would display a Vector instance <Vector object at 0x10e100070>."
   ]
  },
  {
   "cell_type": "markdown",
   "id": "f1209c01",
   "metadata": {},
   "source": [
    "Basically, bool(x) calls x.$\\text{__bool__}$()"
   ]
  },
  {
   "cell_type": "code",
   "execution_count": null,
   "id": "e57bb1fa",
   "metadata": {},
   "outputs": [],
   "source": []
  }
 ],
 "metadata": {
  "kernelspec": {
   "display_name": "Python 3 (ipykernel)",
   "language": "python",
   "name": "python3"
  },
  "language_info": {
   "codemirror_mode": {
    "name": "ipython",
    "version": 3
   },
   "file_extension": ".py",
   "mimetype": "text/x-python",
   "name": "python",
   "nbconvert_exporter": "python",
   "pygments_lexer": "ipython3",
   "version": "3.9.18"
  }
 },
 "nbformat": 4,
 "nbformat_minor": 5
}
